{
 "cells": [
  {
   "cell_type": "code",
   "execution_count": 1,
   "metadata": {
    "slideshow": {
     "slide_type": "slide"
    }
   },
   "outputs": [],
   "source": [
    "import pandas as pd\n",
    "from datetime import datetime\n",
    "import matplotlib.pyplot as plt\n",
    "data_postulantes = pd.read_csv('data-tp/postulantes_genero_edad_limpio.csv')\n",
    "data_vistas = pd.read_csv('data-tp/vistas_limpio.csv')\n",
    "data_detalles = pd.read_csv('data-tp/avisos_detalles.csv')\n"
   ]
  },
  {
   "cell_type": "code",
   "execution_count": 2,
   "metadata": {},
   "outputs": [],
   "source": [
    "postulantes_vistas = pd.merge(data_postulantes, data_vistas, on='idpostulante', how= 'inner')"
   ]
  },
  {
   "cell_type": "code",
   "execution_count": 5,
   "metadata": {},
   "outputs": [],
   "source": [
    "postulantes_vistas['fecha_nacimiento_dt'] = pd.to_datetime(postulantes_vistas['fechanacimiento'], errors= 'coerce')\n",
    "postulantes_vistas['age'] = postulantes_vistas['fecha_nacimiento_dt'].apply(lambda x: 2018 - x.year)\n"
   ]
  },
  {
   "cell_type": "code",
   "execution_count": 6,
   "metadata": {},
   "outputs": [],
   "source": [
    "#vistas_counts = postulantes_vistas['idpostulante'].value_counts().to_frame()\n",
    "#postulantes_vistas_sd = postulantes_vistas.drop_duplicates('idpostulante')\n",
    "postulantes_vistas_count = postulantes_vistas.groupby(['idpostulante', 'age']).count().reset_index()"
   ]
  },
  {
   "cell_type": "code",
   "execution_count": 7,
   "metadata": {},
   "outputs": [],
   "source": [
    "postulantes_vistas_count = postulantes_vistas_count[['idpostulante','age','fechanacimiento']]\n",
    "postulantes_vistas_count.columns = ['id_postulante','age','avisos_vistos']"
   ]
  },
  {
   "cell_type": "code",
   "execution_count": 8,
   "metadata": {},
   "outputs": [],
   "source": [
    "postulantes_avisos_mean = postulantes_vistas_count.groupby('age').mean().reset_index()\n",
    "postulantes_avisos_mean.columns = ['age','avisos_vistos_mean']"
   ]
  },
  {
   "cell_type": "code",
   "execution_count": 9,
   "metadata": {},
   "outputs": [
    {
     "data": {
      "text/plain": [
       "<matplotlib.axes._subplots.AxesSubplot at 0x7f7031990dd8>"
      ]
     },
     "execution_count": 9,
     "metadata": {},
     "output_type": "execute_result"
    },
    {
     "data": {
      "image/png": "[encoded data removed]",
      "text/plain": [
       "<matplotlib.figure.Figure at 0x7f70319904e0>"
      ]
     },
     "metadata": {},
     "output_type": "display_data"
    }
   ],
   "source": [
    "%matplotlib inline\n",
    "postulantes_avisos_mean.plot.scatter('age','avisos_vistos_mean')\n"
   ]
  },
  {
   "cell_type": "markdown",
   "metadata": {},
   "source": [
    "## Grafico la cantidad de avisos promedio de la gente menor a 40 años, discriminado por sexo."
   ]
  },
  {
   "cell_type": "code",
   "execution_count": 29,
   "metadata": {},
   "outputs": [
    {
     "ename": "NameError",
     "evalue": "name 'postulantes_vistas' is not defined",
     "output_type": "error",
     "traceback": [
      "\u001b[0;31m-------------------------------------------------------------------\u001b[0m",
      "\u001b[0;31mNameError\u001b[0m                         Traceback (most recent call last)",
      "\u001b[0;32m<ipython-input-29-4492dd51ce01>\u001b[0m in \u001b[0;36m<module>\u001b[0;34m()\u001b[0m\n\u001b[0;32m----> 1\u001b[0;31m \u001b[0mpostulantes_sexo_edad\u001b[0m \u001b[0;34m=\u001b[0m \u001b[0mpostulantes_vistas\u001b[0m\u001b[0;34m.\u001b[0m\u001b[0mgroupby\u001b[0m\u001b[0;34m(\u001b[0m\u001b[0;34m[\u001b[0m\u001b[0;34m'idpostulante'\u001b[0m\u001b[0;34m,\u001b[0m \u001b[0;34m'sexo'\u001b[0m\u001b[0;34m,\u001b[0m\u001b[0;34m'age'\u001b[0m\u001b[0;34m]\u001b[0m\u001b[0;34m)\u001b[0m\u001b[0;34m.\u001b[0m\u001b[0mcount\u001b[0m\u001b[0;34m(\u001b[0m\u001b[0;34m)\u001b[0m\u001b[0;34m.\u001b[0m\u001b[0mreset_index\u001b[0m\u001b[0;34m(\u001b[0m\u001b[0;34m)\u001b[0m\u001b[0;34m[\u001b[0m\u001b[0;34m[\u001b[0m\u001b[0;34m'sexo'\u001b[0m\u001b[0;34m,\u001b[0m\u001b[0;34m'idAviso'\u001b[0m\u001b[0;34m,\u001b[0m\u001b[0;34m'age'\u001b[0m\u001b[0;34m]\u001b[0m\u001b[0;34m]\u001b[0m\u001b[0;34m\u001b[0m\u001b[0m\n\u001b[0m\u001b[1;32m      2\u001b[0m \u001b[0mpostulantes_sexo_edad_men_30\u001b[0m \u001b[0;34m=\u001b[0m \u001b[0mpostulantes_sexo_edad\u001b[0m\u001b[0;34m[\u001b[0m\u001b[0mpostulantes_sexo_edad\u001b[0m\u001b[0;34m[\u001b[0m\u001b[0;34m'age'\u001b[0m\u001b[0;34m]\u001b[0m \u001b[0;34m<\u001b[0m \u001b[0;36m40\u001b[0m\u001b[0;34m]\u001b[0m\u001b[0;34m\u001b[0m\u001b[0m\n\u001b[1;32m      3\u001b[0m \u001b[0mpostulantes_sexo_edad_men_30\u001b[0m \u001b[0;34m=\u001b[0m \u001b[0mpostulantes_sexo_edad_men_30\u001b[0m\u001b[0;34m.\u001b[0m\u001b[0mgroupby\u001b[0m\u001b[0;34m(\u001b[0m\u001b[0;34m[\u001b[0m\u001b[0;34m'sexo'\u001b[0m\u001b[0;34m,\u001b[0m\u001b[0;34m'age'\u001b[0m\u001b[0;34m]\u001b[0m\u001b[0;34m)\u001b[0m\u001b[0;34m.\u001b[0m\u001b[0mmean\u001b[0m\u001b[0;34m(\u001b[0m\u001b[0;34m)\u001b[0m\u001b[0;34m.\u001b[0m\u001b[0mreset_index\u001b[0m\u001b[0;34m(\u001b[0m\u001b[0;34m)\u001b[0m\u001b[0;34m\u001b[0m\u001b[0m\n\u001b[1;32m      4\u001b[0m \u001b[0mpostulantes_sexo_edad_men_30\u001b[0m\u001b[0;34m.\u001b[0m\u001b[0mcolumns\u001b[0m \u001b[0;34m=\u001b[0m \u001b[0;34m[\u001b[0m\u001b[0;34m'sexo'\u001b[0m\u001b[0;34m,\u001b[0m\u001b[0;34m'age'\u001b[0m\u001b[0;34m,\u001b[0m\u001b[0;34m'mean'\u001b[0m\u001b[0;34m]\u001b[0m\u001b[0;34m\u001b[0m\u001b[0m\n\u001b[1;32m      5\u001b[0m \u001b[0mpostulantes_sexo_edad_men_30\u001b[0m\u001b[0;34m.\u001b[0m\u001b[0mpivot\u001b[0m\u001b[0;34m(\u001b[0m\u001b[0mindex\u001b[0m \u001b[0;34m=\u001b[0m \u001b[0;34m'age'\u001b[0m\u001b[0;34m,\u001b[0m \u001b[0mcolumns\u001b[0m \u001b[0;34m=\u001b[0m \u001b[0;34m'sexo'\u001b[0m\u001b[0;34m,\u001b[0m \u001b[0mvalues\u001b[0m \u001b[0;34m=\u001b[0m \u001b[0;34m'mean'\u001b[0m\u001b[0;34m)\u001b[0m\u001b[0;34m.\u001b[0m\u001b[0mplot\u001b[0m\u001b[0;34m(\u001b[0m\u001b[0mkind\u001b[0m\u001b[0;34m=\u001b[0m\u001b[0;34m'bar'\u001b[0m\u001b[0;34m)\u001b[0m\u001b[0;34m\u001b[0m\u001b[0m\n",
      "\u001b[0;31mNameError\u001b[0m: name 'postulantes_vistas' is not defined"
     ]
    }
   ],
   "source": [
    "postulantes_sexo_edad = postulantes_vistas.groupby(['idpostulante', 'sexo','age']).count().reset_index()[['sexo','idAviso','age']]\n",
    "postulantes_sexo_edad_men_30 = postulantes_sexo_edad[postulantes_sexo_edad['age'] < 40]\n",
    "postulantes_sexo_edad_men_30 = postulantes_sexo_edad_men_30.groupby(['sexo','age']).mean().reset_index()\n",
    "postulantes_sexo_edad_men_30.columns = ['sexo','age','mean']\n",
    "postulantes_sexo_edad_men_30.pivot(index = 'age', columns = 'sexo', values = 'mean').plot(kind='bar')\n",
    "\n",
    "# El plot quedo gigante, quizas se puede particionar mas todavia."
   ]
  },
  {
   "cell_type": "markdown",
   "metadata": {},
   "source": [
    "## idem arriba, para la gente entre 40-70 años."
   ]
  },
  {
   "cell_type": "code",
   "execution_count": 16,
   "metadata": {},
   "outputs": [
    {
     "data": {
      "text/plain": [
       "<matplotlib.axes._subplots.AxesSubplot at 0x7f703157b358>"
      ]
     },
     "execution_count": 16,
     "metadata": {},
     "output_type": "execute_result"
    },
    {
     "data": {
      "image/png": "[encoded data removed]",
      "text/plain": [
       "<matplotlib.figure.Figure at 0x7f703153fd68>"
      ]
     },
     "metadata": {},
     "output_type": "display_data"
    }
   ],
   "source": [
    "postulantes_sexo_edad_men_70 = postulantes_sexo_edad[(postulantes_sexo_edad['age'] > 40) & (postulantes_sexo_edad['age']<70)]\n",
    "postulantes_sexo_edad_men_70 = postulantes_sexo_edad_men_70.groupby(['sexo','age']).mean().reset_index()\n",
    "postulantes_sexo_edad_men_70.columns = ['sexo','age','mean']\n",
    "postulantes_sexo_edad_men_70.pivot(index = 'age', columns = 'sexo', values = 'mean').plot(kind='bar')"
   ]
  },
  {
   "cell_type": "code",
   "execution_count": 4,
   "metadata": {},
   "outputs": [],
   "source": [
    "data_carreras = pd.read_csv('data/fiuba_1_postulantes_educacion.csv',error_bad_lines=False)\n"
   ]
  },
  {
   "cell_type": "markdown",
   "metadata": {},
   "source": [
    "## Obtengo el titulo mas \"alto\" de cada id."
   ]
  },
  {
   "cell_type": "code",
   "execution_count": 31,
   "metadata": {},
   "outputs": [],
   "source": [
    "carrers_by_priority = ['Secundario','Terciario/Técnico','Otro','Universitario','Posgrado','Master','Doctorado']\n",
    "def get_higher_carrer(serie):\n",
    "    high = 0\n",
    "    for index in range(len(carrers_by_priority)):\n",
    "        for carrer in serie['nombre']:\n",
    "            if(carrers_by_priority[index] == carrer):\n",
    "                high = index if index > high else high\n",
    "    return carrers_by_priority[high]\n",
    "\n",
    "data_carreras_fil = data_carreras.groupby('idpostulante').agg(get_higher_carrer).reset_index()[['idpostulante','nombre']]"
   ]
  },
  {
   "cell_type": "code",
   "execution_count": 33,
   "metadata": {},
   "outputs": [],
   "source": [
    "data_carreras_fil = data_carreras.merge(data_carreras_fil, how = 'left', on=['idpostulante','nombre'])"
   ]
  },
  {
   "cell_type": "code",
   "execution_count": 35,
   "metadata": {},
   "outputs": [],
   "source": [
    "data_carreras_univ = data_carreras_fil[data_carreras_fil['nombre'] == 'Universitario']\n"
   ]
  },
  {
   "cell_type": "markdown",
   "metadata": {},
   "source": [
    "## ¿Buscan más trabajo las personas que están estudiando una carrera o los que se graduaron?"
   ]
  },
  {
   "cell_type": "code",
   "execution_count": 51,
   "metadata": {},
   "outputs": [
    {
     "data": {
      "text/plain": [
       "<matplotlib.axes._subplots.AxesSubplot at 0x7fda35244eb8>"
      ]
     },
     "execution_count": 51,
     "metadata": {},
     "output_type": "execute_result"
    },
    {
     "data": {
      "image/png": "[encoded data removed]",
      "text/plain": [
       "<matplotlib.figure.Figure at 0x7fda35203588>"
      ]
     },
     "metadata": {},
     "output_type": "display_data"
    }
   ],
   "source": [
    "data_carreras_univ['estado'].value_counts().to_frame().reset_index().plot.bar(x='index',y='estado')"
   ]
  },
  {
   "cell_type": "code",
   "execution_count": 5,
   "metadata": {},
   "outputs": [],
   "source": [
    "postulantes_vistas_detalles = postulantes_vistas.merge(data_detalles, on = 'idAviso', how ='inner')"
   ]
  },
  {
   "cell_type": "code",
   "execution_count": 14,
   "metadata": {},
   "outputs": [],
   "source": [
    "postulantes_sexo_area = postulantes_vistas_detalles.groupby(['nombre_area','sexo']).count().reset_index()[['nombre_area','sexo','idpostulante']]"
   ]
  },
  {
   "cell_type": "code",
   "execution_count": null,
   "metadata": {},
   "outputs": [],
   "source": [
    "postulantes_sexo_area = postulantes_sexo_area[postulantes_sexo_area['']]"
   ]
  },
  {
   "cell_type": "code",
   "execution_count": 22,
   "metadata": {},
   "outputs": [
    {
     "data": {
      "text/html": [
       "<div>\n",
       "<style>\n",
       "    .dataframe thead tr:only-child th {\n",
       "        text-align: right;\n",
       "    }\n",
       "\n",
       "    .dataframe thead th {\n",
       "        text-align: left;\n",
       "    }\n",
       "\n",
       "    .dataframe tbody tr th {\n",
       "        vertical-align: top;\n",
       "    }\n",
       "</style>\n",
       "<table border=\"1\" class=\"dataframe\">\n",
       "  <thead>\n",
       "    <tr style=\"text-align: right;\">\n",
       "      <th></th>\n",
       "      <th>nombre_area</th>\n",
       "      <th>sexo</th>\n",
       "      <th>idpostulante</th>\n",
       "    </tr>\n",
       "  </thead>\n",
       "  <tbody>\n",
       "    <tr>\n",
       "      <th>0</th>\n",
       "      <td>Abastecimiento</td>\n",
       "      <td>FEM</td>\n",
       "      <td>932</td>\n",
       "    </tr>\n",
       "    <tr>\n",
       "      <th>1</th>\n",
       "      <td>Abastecimiento</td>\n",
       "      <td>MASC</td>\n",
       "      <td>2013</td>\n",
       "    </tr>\n",
       "    <tr>\n",
       "      <th>2</th>\n",
       "      <td>Abastecimiento</td>\n",
       "      <td>NO_DECLARA</td>\n",
       "      <td>9</td>\n",
       "    </tr>\n",
       "    <tr>\n",
       "      <th>3</th>\n",
       "      <td>Administracion de Seguros</td>\n",
       "      <td>FEM</td>\n",
       "      <td>714</td>\n",
       "    </tr>\n",
       "    <tr>\n",
       "      <th>4</th>\n",
       "      <td>Administracion de Seguros</td>\n",
       "      <td>MASC</td>\n",
       "      <td>525</td>\n",
       "    </tr>\n",
       "    <tr>\n",
       "      <th>5</th>\n",
       "      <td>Administración</td>\n",
       "      <td>FEM</td>\n",
       "      <td>64563</td>\n",
       "    </tr>\n",
       "    <tr>\n",
       "      <th>6</th>\n",
       "      <td>Administración</td>\n",
       "      <td>MASC</td>\n",
       "      <td>36393</td>\n",
       "    </tr>\n",
       "    <tr>\n",
       "      <th>7</th>\n",
       "      <td>Administración</td>\n",
       "      <td>NO_DECLARA</td>\n",
       "      <td>288</td>\n",
       "    </tr>\n",
       "    <tr>\n",
       "      <th>8</th>\n",
       "      <td>Administración de Base de Datos</td>\n",
       "      <td>FEM</td>\n",
       "      <td>34</td>\n",
       "    </tr>\n",
       "    <tr>\n",
       "      <th>9</th>\n",
       "      <td>Administración de Base de Datos</td>\n",
       "      <td>MASC</td>\n",
       "      <td>29</td>\n",
       "    </tr>\n",
       "    <tr>\n",
       "      <th>10</th>\n",
       "      <td>Administración de Personal</td>\n",
       "      <td>FEM</td>\n",
       "      <td>6855</td>\n",
       "    </tr>\n",
       "    <tr>\n",
       "      <th>11</th>\n",
       "      <td>Administración de Personal</td>\n",
       "      <td>MASC</td>\n",
       "      <td>3579</td>\n",
       "    </tr>\n",
       "    <tr>\n",
       "      <th>12</th>\n",
       "      <td>Administración de Personal</td>\n",
       "      <td>NO_DECLARA</td>\n",
       "      <td>12</td>\n",
       "    </tr>\n",
       "    <tr>\n",
       "      <th>13</th>\n",
       "      <td>Almacén / Depósito / Expedición</td>\n",
       "      <td>FEM</td>\n",
       "      <td>2384</td>\n",
       "    </tr>\n",
       "    <tr>\n",
       "      <th>14</th>\n",
       "      <td>Almacén / Depósito / Expedición</td>\n",
       "      <td>MASC</td>\n",
       "      <td>9889</td>\n",
       "    </tr>\n",
       "    <tr>\n",
       "      <th>15</th>\n",
       "      <td>Almacén / Depósito / Expedición</td>\n",
       "      <td>NO_DECLARA</td>\n",
       "      <td>35</td>\n",
       "    </tr>\n",
       "    <tr>\n",
       "      <th>16</th>\n",
       "      <td>Análisis Funcional</td>\n",
       "      <td>FEM</td>\n",
       "      <td>848</td>\n",
       "    </tr>\n",
       "    <tr>\n",
       "      <th>17</th>\n",
       "      <td>Análisis Funcional</td>\n",
       "      <td>MASC</td>\n",
       "      <td>1121</td>\n",
       "    </tr>\n",
       "    <tr>\n",
       "      <th>18</th>\n",
       "      <td>Análisis de Riesgos</td>\n",
       "      <td>FEM</td>\n",
       "      <td>1036</td>\n",
       "    </tr>\n",
       "    <tr>\n",
       "      <th>19</th>\n",
       "      <td>Análisis de Riesgos</td>\n",
       "      <td>MASC</td>\n",
       "      <td>1199</td>\n",
       "    </tr>\n",
       "    <tr>\n",
       "      <th>20</th>\n",
       "      <td>Análisis de Riesgos</td>\n",
       "      <td>NO_DECLARA</td>\n",
       "      <td>5</td>\n",
       "    </tr>\n",
       "    <tr>\n",
       "      <th>21</th>\n",
       "      <td>Apoderado Aduanal</td>\n",
       "      <td>FEM</td>\n",
       "      <td>80</td>\n",
       "    </tr>\n",
       "    <tr>\n",
       "      <th>22</th>\n",
       "      <td>Apoderado Aduanal</td>\n",
       "      <td>MASC</td>\n",
       "      <td>86</td>\n",
       "    </tr>\n",
       "    <tr>\n",
       "      <th>23</th>\n",
       "      <td>Arquitectura</td>\n",
       "      <td>FEM</td>\n",
       "      <td>1058</td>\n",
       "    </tr>\n",
       "    <tr>\n",
       "      <th>24</th>\n",
       "      <td>Arquitectura</td>\n",
       "      <td>MASC</td>\n",
       "      <td>1750</td>\n",
       "    </tr>\n",
       "    <tr>\n",
       "      <th>25</th>\n",
       "      <td>Arquitectura</td>\n",
       "      <td>NO_DECLARA</td>\n",
       "      <td>8</td>\n",
       "    </tr>\n",
       "    <tr>\n",
       "      <th>26</th>\n",
       "      <td>Asesoría Legal Internacional</td>\n",
       "      <td>FEM</td>\n",
       "      <td>340</td>\n",
       "    </tr>\n",
       "    <tr>\n",
       "      <th>27</th>\n",
       "      <td>Asesoría Legal Internacional</td>\n",
       "      <td>MASC</td>\n",
       "      <td>224</td>\n",
       "    </tr>\n",
       "    <tr>\n",
       "      <th>28</th>\n",
       "      <td>Asesoría Legal Internacional</td>\n",
       "      <td>NO_DECLARA</td>\n",
       "      <td>1</td>\n",
       "    </tr>\n",
       "    <tr>\n",
       "      <th>29</th>\n",
       "      <td>Asistente</td>\n",
       "      <td>FEM</td>\n",
       "      <td>5416</td>\n",
       "    </tr>\n",
       "    <tr>\n",
       "      <th>...</th>\n",
       "      <td>...</td>\n",
       "      <td>...</td>\n",
       "      <td>...</td>\n",
       "    </tr>\n",
       "    <tr>\n",
       "      <th>391</th>\n",
       "      <td>Telefonista</td>\n",
       "      <td>MASC</td>\n",
       "      <td>127</td>\n",
       "    </tr>\n",
       "    <tr>\n",
       "      <th>392</th>\n",
       "      <td>Telefonista</td>\n",
       "      <td>NO_DECLARA</td>\n",
       "      <td>1</td>\n",
       "    </tr>\n",
       "    <tr>\n",
       "      <th>393</th>\n",
       "      <td>Telemarketing</td>\n",
       "      <td>FEM</td>\n",
       "      <td>17866</td>\n",
       "    </tr>\n",
       "    <tr>\n",
       "      <th>394</th>\n",
       "      <td>Telemarketing</td>\n",
       "      <td>MASC</td>\n",
       "      <td>6739</td>\n",
       "    </tr>\n",
       "    <tr>\n",
       "      <th>395</th>\n",
       "      <td>Telemarketing</td>\n",
       "      <td>NO_DECLARA</td>\n",
       "      <td>44</td>\n",
       "    </tr>\n",
       "    <tr>\n",
       "      <th>396</th>\n",
       "      <td>Tesorería</td>\n",
       "      <td>FEM</td>\n",
       "      <td>15174</td>\n",
       "    </tr>\n",
       "    <tr>\n",
       "      <th>397</th>\n",
       "      <td>Tesorería</td>\n",
       "      <td>MASC</td>\n",
       "      <td>8005</td>\n",
       "    </tr>\n",
       "    <tr>\n",
       "      <th>398</th>\n",
       "      <td>Tesorería</td>\n",
       "      <td>NO_DECLARA</td>\n",
       "      <td>41</td>\n",
       "    </tr>\n",
       "    <tr>\n",
       "      <th>399</th>\n",
       "      <td>Testing / QA / QC</td>\n",
       "      <td>FEM</td>\n",
       "      <td>410</td>\n",
       "    </tr>\n",
       "    <tr>\n",
       "      <th>400</th>\n",
       "      <td>Testing / QA / QC</td>\n",
       "      <td>MASC</td>\n",
       "      <td>555</td>\n",
       "    </tr>\n",
       "    <tr>\n",
       "      <th>401</th>\n",
       "      <td>Testing / QA / QC</td>\n",
       "      <td>NO_DECLARA</td>\n",
       "      <td>1</td>\n",
       "    </tr>\n",
       "    <tr>\n",
       "      <th>402</th>\n",
       "      <td>Trabajo Social</td>\n",
       "      <td>FEM</td>\n",
       "      <td>2</td>\n",
       "    </tr>\n",
       "    <tr>\n",
       "      <th>403</th>\n",
       "      <td>Traduccion</td>\n",
       "      <td>FEM</td>\n",
       "      <td>4</td>\n",
       "    </tr>\n",
       "    <tr>\n",
       "      <th>404</th>\n",
       "      <td>Traduccion</td>\n",
       "      <td>MASC</td>\n",
       "      <td>11</td>\n",
       "    </tr>\n",
       "    <tr>\n",
       "      <th>405</th>\n",
       "      <td>Transporte</td>\n",
       "      <td>FEM</td>\n",
       "      <td>632</td>\n",
       "    </tr>\n",
       "    <tr>\n",
       "      <th>406</th>\n",
       "      <td>Transporte</td>\n",
       "      <td>MASC</td>\n",
       "      <td>5971</td>\n",
       "    </tr>\n",
       "    <tr>\n",
       "      <th>407</th>\n",
       "      <td>Transporte</td>\n",
       "      <td>NO_DECLARA</td>\n",
       "      <td>21</td>\n",
       "    </tr>\n",
       "    <tr>\n",
       "      <th>408</th>\n",
       "      <td>Turismo</td>\n",
       "      <td>FEM</td>\n",
       "      <td>383</td>\n",
       "    </tr>\n",
       "    <tr>\n",
       "      <th>409</th>\n",
       "      <td>Turismo</td>\n",
       "      <td>MASC</td>\n",
       "      <td>214</td>\n",
       "    </tr>\n",
       "    <tr>\n",
       "      <th>410</th>\n",
       "      <td>Venta de Seguros</td>\n",
       "      <td>FEM</td>\n",
       "      <td>770</td>\n",
       "    </tr>\n",
       "    <tr>\n",
       "      <th>411</th>\n",
       "      <td>Venta de Seguros</td>\n",
       "      <td>MASC</td>\n",
       "      <td>447</td>\n",
       "    </tr>\n",
       "    <tr>\n",
       "      <th>412</th>\n",
       "      <td>Venta de Seguros</td>\n",
       "      <td>NO_DECLARA</td>\n",
       "      <td>2</td>\n",
       "    </tr>\n",
       "    <tr>\n",
       "      <th>413</th>\n",
       "      <td>Ventas</td>\n",
       "      <td>FEM</td>\n",
       "      <td>78096</td>\n",
       "    </tr>\n",
       "    <tr>\n",
       "      <th>414</th>\n",
       "      <td>Ventas</td>\n",
       "      <td>MASC</td>\n",
       "      <td>46432</td>\n",
       "    </tr>\n",
       "    <tr>\n",
       "      <th>415</th>\n",
       "      <td>Ventas</td>\n",
       "      <td>NO_DECLARA</td>\n",
       "      <td>291</td>\n",
       "    </tr>\n",
       "    <tr>\n",
       "      <th>416</th>\n",
       "      <td>Ventas Internacionales/Exportación</td>\n",
       "      <td>FEM</td>\n",
       "      <td>1350</td>\n",
       "    </tr>\n",
       "    <tr>\n",
       "      <th>417</th>\n",
       "      <td>Ventas Internacionales/Exportación</td>\n",
       "      <td>MASC</td>\n",
       "      <td>1172</td>\n",
       "    </tr>\n",
       "    <tr>\n",
       "      <th>418</th>\n",
       "      <td>Ventas Internacionales/Exportación</td>\n",
       "      <td>NO_DECLARA</td>\n",
       "      <td>3</td>\n",
       "    </tr>\n",
       "    <tr>\n",
       "      <th>419</th>\n",
       "      <td>Veterinaria</td>\n",
       "      <td>FEM</td>\n",
       "      <td>2</td>\n",
       "    </tr>\n",
       "    <tr>\n",
       "      <th>420</th>\n",
       "      <td>Veterinaria</td>\n",
       "      <td>MASC</td>\n",
       "      <td>25</td>\n",
       "    </tr>\n",
       "  </tbody>\n",
       "</table>\n",
       "<p>421 rows × 3 columns</p>\n",
       "</div>"
      ],
      "text/plain": [
       "                            nombre_area        sexo  idpostulante\n",
       "0                        Abastecimiento         FEM           932\n",
       "1                        Abastecimiento        MASC          2013\n",
       "2                        Abastecimiento  NO_DECLARA             9\n",
       "3             Administracion de Seguros         FEM           714\n",
       "4             Administracion de Seguros        MASC           525\n",
       "5                        Administración         FEM         64563\n",
       "6                        Administración        MASC         36393\n",
       "7                        Administración  NO_DECLARA           288\n",
       "8       Administración de Base de Datos         FEM            34\n",
       "9       Administración de Base de Datos        MASC            29\n",
       "10           Administración de Personal         FEM          6855\n",
       "11           Administración de Personal        MASC          3579\n",
       "12           Administración de Personal  NO_DECLARA            12\n",
       "13      Almacén / Depósito / Expedición         FEM          2384\n",
       "14      Almacén / Depósito / Expedición        MASC          9889\n",
       "15      Almacén / Depósito / Expedición  NO_DECLARA            35\n",
       "16                   Análisis Funcional         FEM           848\n",
       "17                   Análisis Funcional        MASC          1121\n",
       "18                  Análisis de Riesgos         FEM          1036\n",
       "19                  Análisis de Riesgos        MASC          1199\n",
       "20                  Análisis de Riesgos  NO_DECLARA             5\n",
       "21                    Apoderado Aduanal         FEM            80\n",
       "22                    Apoderado Aduanal        MASC            86\n",
       "23                         Arquitectura         FEM          1058\n",
       "24                         Arquitectura        MASC          1750\n",
       "25                         Arquitectura  NO_DECLARA             8\n",
       "26         Asesoría Legal Internacional         FEM           340\n",
       "27         Asesoría Legal Internacional        MASC           224\n",
       "28         Asesoría Legal Internacional  NO_DECLARA             1\n",
       "29                            Asistente         FEM          5416\n",
       "..                                  ...         ...           ...\n",
       "391                         Telefonista        MASC           127\n",
       "392                         Telefonista  NO_DECLARA             1\n",
       "393                       Telemarketing         FEM         17866\n",
       "394                       Telemarketing        MASC          6739\n",
       "395                       Telemarketing  NO_DECLARA            44\n",
       "396                           Tesorería         FEM         15174\n",
       "397                           Tesorería        MASC          8005\n",
       "398                           Tesorería  NO_DECLARA            41\n",
       "399                   Testing / QA / QC         FEM           410\n",
       "400                   Testing / QA / QC        MASC           555\n",
       "401                   Testing / QA / QC  NO_DECLARA             1\n",
       "402                      Trabajo Social         FEM             2\n",
       "403                          Traduccion         FEM             4\n",
       "404                          Traduccion        MASC            11\n",
       "405                          Transporte         FEM           632\n",
       "406                          Transporte        MASC          5971\n",
       "407                          Transporte  NO_DECLARA            21\n",
       "408                             Turismo         FEM           383\n",
       "409                             Turismo        MASC           214\n",
       "410                    Venta de Seguros         FEM           770\n",
       "411                    Venta de Seguros        MASC           447\n",
       "412                    Venta de Seguros  NO_DECLARA             2\n",
       "413                              Ventas         FEM         78096\n",
       "414                              Ventas        MASC         46432\n",
       "415                              Ventas  NO_DECLARA           291\n",
       "416  Ventas Internacionales/Exportación         FEM          1350\n",
       "417  Ventas Internacionales/Exportación        MASC          1172\n",
       "418  Ventas Internacionales/Exportación  NO_DECLARA             3\n",
       "419                         Veterinaria         FEM             2\n",
       "420                         Veterinaria        MASC            25\n",
       "\n",
       "[421 rows x 3 columns]"
      ]
     },
     "execution_count": 22,
     "metadata": {},
     "output_type": "execute_result"
    }
   ],
   "source": [
    "postulantes_sexo_area#.pivot(index = 'nombre_area', columns= 'sexo', values='idpostulante').plot(kind='bar')"
   ]
  },
  {
   "cell_type": "code",
   "execution_count": null,
   "metadata": {},
   "outputs": [],
   "source": []
  }
 ],
 "metadata": {
  "kernelspec": {
   "display_name": "Python 3",
   "language": "python",
   "name": "python3"
  },
  "language_info": {
   "codemirror_mode": {
    "name": "ipython",
    "version": 3
   },
   "file_extension": ".py",
   "mimetype": "text/x-python",
   "name": "python",
   "nbconvert_exporter": "python",
   "pygments_lexer": "ipython3",
   "version": "3.5.4"
  }
 },
 "nbformat": 4,
 "nbformat_minor": 2
}
