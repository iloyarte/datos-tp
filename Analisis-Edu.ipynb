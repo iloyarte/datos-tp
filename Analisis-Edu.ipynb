{
 "cells": [
  {
   "cell_type": "code",
   "execution_count": 1,
   "metadata": {},
   "outputs": [],
   "source": [
    "import numpy as np \n",
    "import pandas as pd\n",
    "import datetime\n",
    "import seaborn as sns\n",
    "\n",
    "# plots\n",
    "import matplotlib.pyplot as plt\n",
    "%matplotlib inline"
   ]
  },
  {
   "cell_type": "code",
   "execution_count": 2,
   "metadata": {},
   "outputs": [],
   "source": [
    "# Cargo los archivos\n",
    "vistas = pd.read_csv('data-tp/vistas_limpio.csv')\n",
    "postulantes_genero_edad = pd.read_csv('data-tp/postulantes_genero_edad_limpio.csv')\n",
    "postulantes_edu = pd.read_csv('data-tp/fiuba_1_postulantes_educacion.csv')\n",
    "postulaciones = pd.read_csv('data-tp/fiuba_4_postulaciones.csv')\n",
    "avisos = pd.read_csv('data-tp/avisos_detalles.csv')"
   ]
  },
  {
   "cell_type": "code",
   "execution_count": 3,
   "metadata": {},
   "outputs": [],
   "source": [
    "# Saco la columna Unnamed: 0 \n",
    "postulantes_genero_edad = postulantes_genero_edad.drop(columns=['Unnamed: 0'])"
   ]
  },
  {
   "cell_type": "code",
   "execution_count": 4,
   "metadata": {},
   "outputs": [
    {
     "data": {
      "text/html": [
       "<div>\n",
       "<style scoped>\n",
       "    .dataframe tbody tr th:only-of-type {\n",
       "        vertical-align: middle;\n",
       "    }\n",
       "\n",
       "    .dataframe tbody tr th {\n",
       "        vertical-align: top;\n",
       "    }\n",
       "\n",
       "    .dataframe thead th {\n",
       "        text-align: right;\n",
       "    }\n",
       "</style>\n",
       "<table border=\"1\" class=\"dataframe\">\n",
       "  <thead>\n",
       "    <tr style=\"text-align: right;\">\n",
       "      <th></th>\n",
       "      <th>idpostulante</th>\n",
       "      <th>nombre</th>\n",
       "      <th>estado</th>\n",
       "      <th>fechanacimiento</th>\n",
       "      <th>sexo</th>\n",
       "    </tr>\n",
       "  </thead>\n",
       "  <tbody>\n",
       "    <tr>\n",
       "      <th>0</th>\n",
       "      <td>NdJl</td>\n",
       "      <td>Posgrado</td>\n",
       "      <td>En Curso</td>\n",
       "      <td>1969-05-09</td>\n",
       "      <td>MASC</td>\n",
       "    </tr>\n",
       "    <tr>\n",
       "      <th>1</th>\n",
       "      <td>NdJl</td>\n",
       "      <td>Universitario</td>\n",
       "      <td>Graduado</td>\n",
       "      <td>1969-05-09</td>\n",
       "      <td>MASC</td>\n",
       "    </tr>\n",
       "    <tr>\n",
       "      <th>2</th>\n",
       "      <td>8BkL</td>\n",
       "      <td>Universitario</td>\n",
       "      <td>En Curso</td>\n",
       "      <td>1976-07-21</td>\n",
       "      <td>FEM</td>\n",
       "    </tr>\n",
       "    <tr>\n",
       "      <th>3</th>\n",
       "      <td>8BkL</td>\n",
       "      <td>Universitario</td>\n",
       "      <td>Graduado</td>\n",
       "      <td>1976-07-21</td>\n",
       "      <td>FEM</td>\n",
       "    </tr>\n",
       "    <tr>\n",
       "      <th>4</th>\n",
       "      <td>8BkL</td>\n",
       "      <td>Posgrado</td>\n",
       "      <td>Graduado</td>\n",
       "      <td>1976-07-21</td>\n",
       "      <td>FEM</td>\n",
       "    </tr>\n",
       "  </tbody>\n",
       "</table>\n",
       "</div>"
      ],
      "text/plain": [
       "  idpostulante         nombre    estado fechanacimiento  sexo\n",
       "0         NdJl       Posgrado  En Curso      1969-05-09  MASC\n",
       "1         NdJl  Universitario  Graduado      1969-05-09  MASC\n",
       "2         8BkL  Universitario  En Curso      1976-07-21   FEM\n",
       "3         8BkL  Universitario  Graduado      1976-07-21   FEM\n",
       "4         8BkL       Posgrado  Graduado      1976-07-21   FEM"
      ]
     },
     "execution_count": 4,
     "metadata": {},
     "output_type": "execute_result"
    }
   ],
   "source": [
    "postulantes = pd.merge(postulantes_edu, postulantes_genero_edad, on='idpostulante')\n",
    "postulantes.head()"
   ]
  },
  {
   "cell_type": "code",
   "execution_count": 5,
   "metadata": {},
   "outputs": [
    {
     "data": {
      "text/html": [
       "<div>\n",
       "<style scoped>\n",
       "    .dataframe tbody tr th:only-of-type {\n",
       "        vertical-align: middle;\n",
       "    }\n",
       "\n",
       "    .dataframe tbody tr th {\n",
       "        vertical-align: top;\n",
       "    }\n",
       "\n",
       "    .dataframe thead th {\n",
       "        text-align: right;\n",
       "    }\n",
       "</style>\n",
       "<table border=\"1\" class=\"dataframe\">\n",
       "  <thead>\n",
       "    <tr style=\"text-align: right;\">\n",
       "      <th></th>\n",
       "      <th>idpostulante</th>\n",
       "      <th>estado</th>\n",
       "      <th>fechanacimiento</th>\n",
       "      <th>sexo</th>\n",
       "      <th>educacion</th>\n",
       "    </tr>\n",
       "  </thead>\n",
       "  <tbody>\n",
       "    <tr>\n",
       "      <th>0</th>\n",
       "      <td>NdJl</td>\n",
       "      <td>En Curso</td>\n",
       "      <td>1969-05-09</td>\n",
       "      <td>MASC</td>\n",
       "      <td>Posgrado</td>\n",
       "    </tr>\n",
       "    <tr>\n",
       "      <th>1</th>\n",
       "      <td>NdJl</td>\n",
       "      <td>Graduado</td>\n",
       "      <td>1969-05-09</td>\n",
       "      <td>MASC</td>\n",
       "      <td>Universitario</td>\n",
       "    </tr>\n",
       "    <tr>\n",
       "      <th>2</th>\n",
       "      <td>8BkL</td>\n",
       "      <td>En Curso</td>\n",
       "      <td>1976-07-21</td>\n",
       "      <td>FEM</td>\n",
       "      <td>Universitario</td>\n",
       "    </tr>\n",
       "    <tr>\n",
       "      <th>3</th>\n",
       "      <td>8BkL</td>\n",
       "      <td>Graduado</td>\n",
       "      <td>1976-07-21</td>\n",
       "      <td>FEM</td>\n",
       "      <td>Universitario</td>\n",
       "    </tr>\n",
       "    <tr>\n",
       "      <th>4</th>\n",
       "      <td>8BkL</td>\n",
       "      <td>Graduado</td>\n",
       "      <td>1976-07-21</td>\n",
       "      <td>FEM</td>\n",
       "      <td>Posgrado</td>\n",
       "    </tr>\n",
       "  </tbody>\n",
       "</table>\n",
       "</div>"
      ],
      "text/plain": [
       "  idpostulante    estado fechanacimiento  sexo      educacion\n",
       "0         NdJl  En Curso      1969-05-09  MASC       Posgrado\n",
       "1         NdJl  Graduado      1969-05-09  MASC  Universitario\n",
       "2         8BkL  En Curso      1976-07-21   FEM  Universitario\n",
       "3         8BkL  Graduado      1976-07-21   FEM  Universitario\n",
       "4         8BkL  Graduado      1976-07-21   FEM       Posgrado"
      ]
     },
     "execution_count": 5,
     "metadata": {},
     "output_type": "execute_result"
    }
   ],
   "source": [
    "# Renombro la columna de 'nombre' (educacion) a 'educacion'\n",
    "postulantes['educacion'] = postulantes['nombre']\n",
    "postulantes = postulantes.drop(columns=['nombre'])\n",
    "postulantes.head()"
   ]
  },
  {
   "cell_type": "code",
   "execution_count": 6,
   "metadata": {},
   "outputs": [
    {
     "data": {
      "text/plain": [
       "294662"
      ]
     },
     "execution_count": 6,
     "metadata": {},
     "output_type": "execute_result"
    }
   ],
   "source": [
    "len(postulantes)"
   ]
  },
  {
   "cell_type": "code",
   "execution_count": 7,
   "metadata": {},
   "outputs": [
    {
     "data": {
      "text/plain": [
       "array(['Posgrado', 'Universitario', 'Master', 'Otro', 'Terciario/Técnico',\n",
       "       'Secundario', 'Doctorado'], dtype=object)"
      ]
     },
     "execution_count": 7,
     "metadata": {},
     "output_type": "execute_result"
    }
   ],
   "source": [
    "postulantes['educacion'].unique()"
   ]
  },
  {
   "cell_type": "code",
   "execution_count": 8,
   "metadata": {},
   "outputs": [],
   "source": [
    "carrers_by_priority = ['Secundario','Terciario/Técnico','Otro','Universitario','Posgrado','Master','Doctorado']\n",
    "def get_higher_carrer(serie):\n",
    "    high = 0\n",
    "    for index in range(len(carrers_by_priority)):\n",
    "        for carrer in serie['educacion']:\n",
    "            if(carrers_by_priority[index] == carrer):\n",
    "                high = index if index > high else high\n",
    "    return carrers_by_priority[high]\n",
    "\n",
    "postulantes_fil = postulantes.groupby('idpostulante').agg(get_higher_carrer).reset_index()[['idpostulante','educacion']]\n",
    "postulantes = postulantes.merge(postulantes_fil, how = 'inner', on=['idpostulante','educacion'])\n",
    "# postulantes['educacion_index'] = carrers_by_priority.index(postulantes['educacion'])"
   ]
  },
  {
   "cell_type": "code",
   "execution_count": 9,
   "metadata": {},
   "outputs": [
    {
     "data": {
      "text/plain": [
       "197118"
      ]
     },
     "execution_count": 9,
     "metadata": {},
     "output_type": "execute_result"
    }
   ],
   "source": [
    "# Deberia haberse reducido bastante el tamaño del DF\n",
    "len(postulantes)"
   ]
  },
  {
   "cell_type": "code",
   "execution_count": 9,
   "metadata": {},
   "outputs": [
    {
     "data": {
      "text/html": [
       "<div>\n",
       "<style scoped>\n",
       "    .dataframe tbody tr th:only-of-type {\n",
       "        vertical-align: middle;\n",
       "    }\n",
       "\n",
       "    .dataframe tbody tr th {\n",
       "        vertical-align: top;\n",
       "    }\n",
       "\n",
       "    .dataframe thead th {\n",
       "        text-align: right;\n",
       "    }\n",
       "</style>\n",
       "<table border=\"1\" class=\"dataframe\">\n",
       "  <thead>\n",
       "    <tr style=\"text-align: right;\">\n",
       "      <th></th>\n",
       "      <th>idpostulante</th>\n",
       "      <th>estado</th>\n",
       "      <th>fechanacimiento</th>\n",
       "      <th>sexo</th>\n",
       "      <th>educacion</th>\n",
       "    </tr>\n",
       "  </thead>\n",
       "  <tbody>\n",
       "    <tr>\n",
       "      <th>0</th>\n",
       "      <td>NdJl</td>\n",
       "      <td>En Curso</td>\n",
       "      <td>1969-05-09</td>\n",
       "      <td>MASC</td>\n",
       "      <td>Posgrado</td>\n",
       "    </tr>\n",
       "    <tr>\n",
       "      <th>1</th>\n",
       "      <td>8BkL</td>\n",
       "      <td>Graduado</td>\n",
       "      <td>1976-07-21</td>\n",
       "      <td>FEM</td>\n",
       "      <td>Master</td>\n",
       "    </tr>\n",
       "    <tr>\n",
       "      <th>2</th>\n",
       "      <td>1d2B</td>\n",
       "      <td>En Curso</td>\n",
       "      <td>1976-02-28</td>\n",
       "      <td>MASC</td>\n",
       "      <td>Universitario</td>\n",
       "    </tr>\n",
       "    <tr>\n",
       "      <th>3</th>\n",
       "      <td>NPBx</td>\n",
       "      <td>En Curso</td>\n",
       "      <td>1981-03-09</td>\n",
       "      <td>MASC</td>\n",
       "      <td>Master</td>\n",
       "    </tr>\n",
       "    <tr>\n",
       "      <th>4</th>\n",
       "      <td>Ym2X</td>\n",
       "      <td>Graduado</td>\n",
       "      <td>1964-01-19</td>\n",
       "      <td>MASC</td>\n",
       "      <td>Universitario</td>\n",
       "    </tr>\n",
       "  </tbody>\n",
       "</table>\n",
       "</div>"
      ],
      "text/plain": [
       "  idpostulante    estado fechanacimiento  sexo      educacion\n",
       "0         NdJl  En Curso      1969-05-09  MASC       Posgrado\n",
       "1         8BkL  Graduado      1976-07-21   FEM         Master\n",
       "2         1d2B  En Curso      1976-02-28  MASC  Universitario\n",
       "3         NPBx  En Curso      1981-03-09  MASC         Master\n",
       "4         Ym2X  Graduado      1964-01-19  MASC  Universitario"
      ]
     },
     "execution_count": 9,
     "metadata": {},
     "output_type": "execute_result"
    }
   ],
   "source": [
    "postulantes.head()"
   ]
  },
  {
   "cell_type": "code",
   "execution_count": 11,
   "metadata": {},
   "outputs": [
    {
     "data": {
      "text/plain": [
       "<matplotlib.axes._subplots.AxesSubplot at 0x107b35320>"
      ]
     },
     "execution_count": 11,
     "metadata": {},
     "output_type": "execute_result"
    },
    {
     "data": {
      "image/png": "[encoded data removed]",
      "text/plain": [
       "<Figure size 432x288 with 1 Axes>"
      ]
     },
     "metadata": {},
     "output_type": "display_data"
    }
   ],
   "source": [
    "# Cantidad de postulantes segun nivel educativo\n",
    "postulantes_fil['educacion'].value_counts().plot.bar(x='educacion')"
   ]
  },
  {
   "cell_type": "code",
   "execution_count": null,
   "metadata": {},
   "outputs": [],
   "source": [
    "postulante"
   ]
  },
  {
   "cell_type": "code",
   "execution_count": 11,
   "metadata": {},
   "outputs": [
    {
     "data": {
      "text/html": [
       "<div>\n",
       "<style scoped>\n",
       "    .dataframe tbody tr th:only-of-type {\n",
       "        vertical-align: middle;\n",
       "    }\n",
       "\n",
       "    .dataframe tbody tr th {\n",
       "        vertical-align: top;\n",
       "    }\n",
       "\n",
       "    .dataframe thead th {\n",
       "        text-align: right;\n",
       "    }\n",
       "</style>\n",
       "<table border=\"1\" class=\"dataframe\">\n",
       "  <thead>\n",
       "    <tr style=\"text-align: right;\">\n",
       "      <th></th>\n",
       "      <th>idpostulante</th>\n",
       "      <th>postulaciones</th>\n",
       "    </tr>\n",
       "  </thead>\n",
       "  <tbody>\n",
       "    <tr>\n",
       "      <th>0</th>\n",
       "      <td>0z5VvGv</td>\n",
       "      <td>34</td>\n",
       "    </tr>\n",
       "    <tr>\n",
       "      <th>1</th>\n",
       "      <td>0zB026d</td>\n",
       "      <td>3</td>\n",
       "    </tr>\n",
       "    <tr>\n",
       "      <th>2</th>\n",
       "      <td>0zB03O9</td>\n",
       "      <td>17</td>\n",
       "    </tr>\n",
       "    <tr>\n",
       "      <th>3</th>\n",
       "      <td>0zB08lq</td>\n",
       "      <td>1</td>\n",
       "    </tr>\n",
       "    <tr>\n",
       "      <th>4</th>\n",
       "      <td>0zB0NWY</td>\n",
       "      <td>1</td>\n",
       "    </tr>\n",
       "  </tbody>\n",
       "</table>\n",
       "</div>"
      ],
      "text/plain": [
       "  idpostulante  postulaciones\n",
       "0      0z5VvGv             34\n",
       "1      0zB026d              3\n",
       "2      0zB03O9             17\n",
       "3      0zB08lq              1\n",
       "4      0zB0NWY              1"
      ]
     },
     "execution_count": 11,
     "metadata": {},
     "output_type": "execute_result"
    }
   ],
   "source": [
    "count_postulaciones = postulaciones.groupby('idpostulante').count().reset_index()\n",
    "count_postulaciones['postulaciones'] = count_postulaciones['idaviso']\n",
    "count_postulaciones = count_postulaciones[['idpostulante', 'postulaciones']]\n",
    "count_postulaciones.head()"
   ]
  },
  {
   "cell_type": "code",
   "execution_count": 12,
   "metadata": {},
   "outputs": [
    {
     "data": {
      "text/html": [
       "<div>\n",
       "<style scoped>\n",
       "    .dataframe tbody tr th:only-of-type {\n",
       "        vertical-align: middle;\n",
       "    }\n",
       "\n",
       "    .dataframe tbody tr th {\n",
       "        vertical-align: top;\n",
       "    }\n",
       "\n",
       "    .dataframe thead th {\n",
       "        text-align: right;\n",
       "    }\n",
       "</style>\n",
       "<table border=\"1\" class=\"dataframe\">\n",
       "  <thead>\n",
       "    <tr style=\"text-align: right;\">\n",
       "      <th></th>\n",
       "      <th>idpostulante</th>\n",
       "      <th>estado</th>\n",
       "      <th>fechanacimiento</th>\n",
       "      <th>sexo</th>\n",
       "      <th>educacion</th>\n",
       "      <th>postulaciones</th>\n",
       "    </tr>\n",
       "  </thead>\n",
       "  <tbody>\n",
       "    <tr>\n",
       "      <th>0</th>\n",
       "      <td>NdJl</td>\n",
       "      <td>En Curso</td>\n",
       "      <td>1969-05-09</td>\n",
       "      <td>MASC</td>\n",
       "      <td>Posgrado</td>\n",
       "      <td>16</td>\n",
       "    </tr>\n",
       "    <tr>\n",
       "      <th>1</th>\n",
       "      <td>8BkL</td>\n",
       "      <td>Graduado</td>\n",
       "      <td>1976-07-21</td>\n",
       "      <td>FEM</td>\n",
       "      <td>Master</td>\n",
       "      <td>12</td>\n",
       "    </tr>\n",
       "    <tr>\n",
       "      <th>2</th>\n",
       "      <td>1d2B</td>\n",
       "      <td>En Curso</td>\n",
       "      <td>1976-02-28</td>\n",
       "      <td>MASC</td>\n",
       "      <td>Universitario</td>\n",
       "      <td>4</td>\n",
       "    </tr>\n",
       "    <tr>\n",
       "      <th>3</th>\n",
       "      <td>NPBx</td>\n",
       "      <td>En Curso</td>\n",
       "      <td>1981-03-09</td>\n",
       "      <td>MASC</td>\n",
       "      <td>Master</td>\n",
       "      <td>24</td>\n",
       "    </tr>\n",
       "    <tr>\n",
       "      <th>4</th>\n",
       "      <td>Ym2X</td>\n",
       "      <td>Graduado</td>\n",
       "      <td>1964-01-19</td>\n",
       "      <td>MASC</td>\n",
       "      <td>Universitario</td>\n",
       "      <td>11</td>\n",
       "    </tr>\n",
       "  </tbody>\n",
       "</table>\n",
       "</div>"
      ],
      "text/plain": [
       "  idpostulante    estado fechanacimiento  sexo      educacion  postulaciones\n",
       "0         NdJl  En Curso      1969-05-09  MASC       Posgrado             16\n",
       "1         8BkL  Graduado      1976-07-21   FEM         Master             12\n",
       "2         1d2B  En Curso      1976-02-28  MASC  Universitario              4\n",
       "3         NPBx  En Curso      1981-03-09  MASC         Master             24\n",
       "4         Ym2X  Graduado      1964-01-19  MASC  Universitario             11"
      ]
     },
     "execution_count": 12,
     "metadata": {},
     "output_type": "execute_result"
    }
   ],
   "source": [
    "postulantes = pd.merge(postulantes, count_postulaciones, on='idpostulante')\n",
    "postulantes.head()"
   ]
  },
  {
   "cell_type": "code",
   "execution_count": 14,
   "metadata": {},
   "outputs": [
    {
     "data": {
      "image/png": "[encoded data removed]",
      "text/plain": [
       "<Figure size 1008x288 with 1 Axes>"
      ]
     },
     "metadata": {},
     "output_type": "display_data"
    }
   ],
   "source": [
    "postulantes[['educacion', 'postulaciones']]\\\n",
    ".groupby('educacion').sum().sort_values('postulaciones', ascending=False).plot(kind='bar',\\\n",
    "figsize=(14,4), \\\n",
    "title='Cantidad de postulaciones segun nivel educativo');"
   ]
  },
  {
   "cell_type": "code",
   "execution_count": 17,
   "metadata": {},
   "outputs": [],
   "source": [
    "postulantes['fechanacimiento'] = pd.to_datetime(postulantes['fechanacimiento'])"
   ]
  },
  {
   "cell_type": "code",
   "execution_count": 19,
   "metadata": {},
   "outputs": [],
   "source": [
    "postulantes['year'] = postulantes['fechanacimiento'].dt.year"
   ]
  },
  {
   "cell_type": "code",
   "execution_count": 12,
   "metadata": {},
   "outputs": [
    {
     "data": {
      "text/html": [
       "<div>\n",
       "<style scoped>\n",
       "    .dataframe tbody tr th:only-of-type {\n",
       "        vertical-align: middle;\n",
       "    }\n",
       "\n",
       "    .dataframe tbody tr th {\n",
       "        vertical-align: top;\n",
       "    }\n",
       "\n",
       "    .dataframe thead th {\n",
       "        text-align: right;\n",
       "    }\n",
       "</style>\n",
       "<table border=\"1\" class=\"dataframe\">\n",
       "  <thead>\n",
       "    <tr style=\"text-align: right;\">\n",
       "      <th></th>\n",
       "      <th>idpostulante</th>\n",
       "      <th>estado</th>\n",
       "      <th>fechanacimiento</th>\n",
       "      <th>sexo</th>\n",
       "      <th>educacion</th>\n",
       "      <th>year</th>\n",
       "    </tr>\n",
       "  </thead>\n",
       "  <tbody>\n",
       "    <tr>\n",
       "      <th>0</th>\n",
       "      <td>NdJl</td>\n",
       "      <td>En Curso</td>\n",
       "      <td>1969-05-09</td>\n",
       "      <td>MASC</td>\n",
       "      <td>Posgrado</td>\n",
       "      <td>1969</td>\n",
       "    </tr>\n",
       "    <tr>\n",
       "      <th>1</th>\n",
       "      <td>8BkL</td>\n",
       "      <td>Graduado</td>\n",
       "      <td>1976-07-21</td>\n",
       "      <td>FEM</td>\n",
       "      <td>Master</td>\n",
       "      <td>1976</td>\n",
       "    </tr>\n",
       "    <tr>\n",
       "      <th>2</th>\n",
       "      <td>1d2B</td>\n",
       "      <td>En Curso</td>\n",
       "      <td>1976-02-28</td>\n",
       "      <td>MASC</td>\n",
       "      <td>Universitario</td>\n",
       "      <td>1976</td>\n",
       "    </tr>\n",
       "    <tr>\n",
       "      <th>3</th>\n",
       "      <td>NPBx</td>\n",
       "      <td>En Curso</td>\n",
       "      <td>1981-03-09</td>\n",
       "      <td>MASC</td>\n",
       "      <td>Master</td>\n",
       "      <td>1981</td>\n",
       "    </tr>\n",
       "    <tr>\n",
       "      <th>4</th>\n",
       "      <td>Ym2X</td>\n",
       "      <td>Graduado</td>\n",
       "      <td>1964-01-19</td>\n",
       "      <td>MASC</td>\n",
       "      <td>Universitario</td>\n",
       "      <td>1964</td>\n",
       "    </tr>\n",
       "  </tbody>\n",
       "</table>\n",
       "</div>"
      ],
      "text/plain": [
       "  idpostulante    estado fechanacimiento  sexo      educacion  year\n",
       "0         NdJl  En Curso      1969-05-09  MASC       Posgrado  1969\n",
       "1         8BkL  Graduado      1976-07-21   FEM         Master  1976\n",
       "2         1d2B  En Curso      1976-02-28  MASC  Universitario  1976\n",
       "3         NPBx  En Curso      1981-03-09  MASC         Master  1981\n",
       "4         Ym2X  Graduado      1964-01-19  MASC  Universitario  1964"
      ]
     },
     "execution_count": 12,
     "metadata": {},
     "output_type": "execute_result"
    }
   ],
   "source": [
    "postulantes.head()"
   ]
  },
  {
   "cell_type": "code",
   "execution_count": 162,
   "metadata": {},
   "outputs": [
    {
     "data": {
      "text/plain": [
       "array(['Posgrado', 'Master', 'Universitario', 'Terciario/Técnico', 'Otro',\n",
       "       'Doctorado', 'Secundario'], dtype=object)"
      ]
     },
     "execution_count": 162,
     "metadata": {},
     "output_type": "execute_result"
    }
   ],
   "source": [
    "postulantes['educacion'].unique()"
   ]
  },
  {
   "cell_type": "code",
   "execution_count": 216,
   "metadata": {},
   "outputs": [
    {
     "data": {
      "image/png": "[encoded data removed]",
      "text/plain": [
       "<Figure size 1152x648 with 1 Axes>"
      ]
     },
     "metadata": {},
     "output_type": "display_data"
    }
   ],
   "source": [
    "# Educacion segun edad\n",
    "colors = ['b', 'g', 'r', 'c', 'm', 'y', 'k', 'w']\n",
    "color = 0\n",
    "for i in postulantes['educacion'].unique():\n",
    "    df = postulantes.loc[postulantes['educacion'] == i,['year', 'educacion']].loc[postulantes['year'] > 1930, :]\n",
    "    x = df.groupby('year').count().reset_index()['year']\n",
    "    y = df.groupby('year').count().reset_index()['educacion']\n",
    "    plt.fill(x, y, alpha=0.75, color=colors[color])\n",
    "    color+=1\n",
    "\n",
    "plt.xlabel('Año de Nacimiento')\n",
    "plt.ylabel('Nivel de educación')\n",
    "plt.legend(postulantes['educacion'].unique())#, loc=2)\n",
    "plt.title('Cantidad de graduados por nivel educativo según año de nacimiento')\n",
    "plt.grid(True)\n",
    "\n",
    "plt.show()"
   ]
  },
  {
   "cell_type": "code",
   "execution_count": 214,
   "metadata": {},
   "outputs": [
    {
     "data": {
      "image/png": "[encoded data removed]",
      "text/plain": [
       "<Figure size 1008x576 with 1 Axes>"
      ]
     },
     "metadata": {},
     "output_type": "display_data"
    }
   ],
   "source": [
    "postulantes.loc[postulantes['year'] > 1930, :].groupby('year').count().reset_index().plot.line(figsize=(14,8), color='darkorange', fontsize=15, x='year');\n",
    "plt.xlabel('Año de nacimiento', fontsize=18)\n",
    "plt.ylabel('Cantidad de postulaciones', fontsize=20)\n",
    "plt.title('Postulaciones segun año de nacimiento', fontsize=20);\n",
    "plt.grid(True)\n",
    "plt.legend('');\n",
    "plt.show()"
   ]
  },
  {
   "cell_type": "code",
   "execution_count": null,
   "metadata": {},
   "outputs": [],
   "source": []
  }
 ],
 "metadata": {
  "kernelspec": {
   "display_name": "Python 3",
   "language": "python",
   "name": "python3"
  },
  "language_info": {
   "codemirror_mode": {
    "name": "ipython",
    "version": 3
   },
   "file_extension": ".py",
   "mimetype": "text/x-python",
   "name": "python",
   "nbconvert_exporter": "python",
   "pygments_lexer": "ipython3",
   "version": "3.6.4"
  }
 },
 "nbformat": 4,
 "nbformat_minor": 2
}
